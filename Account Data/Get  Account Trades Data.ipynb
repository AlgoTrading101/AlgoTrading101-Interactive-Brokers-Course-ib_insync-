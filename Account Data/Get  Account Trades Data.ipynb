{
 "cells": [
  {
   "cell_type": "code",
   "execution_count": 1,
   "id": "e15ecc4c",
   "metadata": {},
   "outputs": [
    {
     "data": {
      "text/plain": [
       "<IB connected to 127.0.0.1:7497 clientId=1>"
      ]
     },
     "execution_count": 1,
     "metadata": {},
     "output_type": "execute_result"
    }
   ],
   "source": [
    "from ib_insync import *\n",
    "\n",
    "util.startLoop()\n",
    "\n",
    "ib = IB()\n",
    "ib.connect()"
   ]
  },
  {
   "cell_type": "code",
   "execution_count": 2,
   "id": "383e3408",
   "metadata": {},
   "outputs": [
    {
     "data": {
      "text/plain": [
       "[Trade(contract=Stock(conId=78615696, symbol='ENZL', right='?', exchange='SMART', currency='USD', localSymbol='ENZL', tradingClass='NMS'), order=Order(permId=1210511838, action='SELL', totalQuantity=1000.0, orderType='MKT', lmtPrice=61.62, auxPrice=0.0, tif='DAY', ocaType=3, displaySize=2147483647, trailStopPrice=60.62, openClose='', volatilityType=0, deltaNeutralOrderType='None', referencePriceType=0, account='DU229526', clearingIntent='IB', cashQty=0.0, dontUseAutoPriceForHedge=True, filledQuantity=0.0, refFuturesConId=2147483647, shareholder='Not an insider or substantial shareholder', parentPermId=9223372036854775807), orderStatus=OrderStatus(orderId=0, status='Cancelled', filled=0.0, remaining=0.0, avgFillPrice=0.0, permId=0, parentId=0, lastFillPrice=0.0, clientId=0, whyHeld='', mktCapPrice=0.0), fills=[], log=[]),\n",
       " Trade(contract=Stock(conId=78615696, symbol='ENZL', right='?', exchange='SMART', currency='USD', localSymbol='ENZL', tradingClass='NMS'), order=Order(permId=1210511836, action='SELL', totalQuantity=1000.0, orderType='MKT', lmtPrice=61.62, auxPrice=0.0, tif='DAY', ocaType=3, displaySize=2147483647, trailStopPrice=60.62, openClose='', volatilityType=0, deltaNeutralOrderType='None', referencePriceType=0, account='DU229526', clearingIntent='IB', cashQty=0.0, dontUseAutoPriceForHedge=True, filledQuantity=0.0, refFuturesConId=2147483647, shareholder='Not an insider or substantial shareholder', parentPermId=9223372036854775807), orderStatus=OrderStatus(orderId=0, status='Cancelled', filled=0.0, remaining=0.0, avgFillPrice=0.0, permId=0, parentId=0, lastFillPrice=0.0, clientId=0, whyHeld='', mktCapPrice=0.0), fills=[], log=[]),\n",
       " Trade(contract=Stock(conId=2586606, symbol='EWA', right='?', exchange='SMART', currency='USD', localSymbol='EWA', tradingClass='EWA'), order=Order(permId=1210511837, action='BUY', totalQuantity=1000.0, orderType='MKT', lmtPrice=26.67, auxPrice=0.0, tif='DAY', ocaType=3, displaySize=2147483647, trailStopPrice=27.67, openClose='', volatilityType=0, deltaNeutralOrderType='None', referencePriceType=0, account='DU229526', clearingIntent='IB', cashQty=0.0, dontUseAutoPriceForHedge=True, filledQuantity=0.0, refFuturesConId=2147483647, shareholder='Not an insider or substantial shareholder', parentPermId=9223372036854775807), orderStatus=OrderStatus(orderId=0, status='Cancelled', filled=0.0, remaining=0.0, avgFillPrice=0.0, permId=0, parentId=0, lastFillPrice=0.0, clientId=0, whyHeld='', mktCapPrice=0.0), fills=[], log=[]),\n",
       " Trade(contract=Stock(conId=2586606, symbol='EWA', right='?', exchange='SMART', currency='USD', localSymbol='EWA', tradingClass='EWA'), order=Order(permId=1210511835, action='BUY', totalQuantity=1000.0, orderType='MKT', lmtPrice=26.67, auxPrice=0.0, tif='DAY', ocaType=3, displaySize=2147483647, trailStopPrice=27.67, openClose='', volatilityType=0, deltaNeutralOrderType='None', referencePriceType=0, account='DU229526', clearingIntent='IB', cashQty=0.0, dontUseAutoPriceForHedge=True, filledQuantity=0.0, refFuturesConId=2147483647, shareholder='Not an insider or substantial shareholder', parentPermId=9223372036854775807), orderStatus=OrderStatus(orderId=0, status='Cancelled', filled=0.0, remaining=0.0, avgFillPrice=0.0, permId=0, parentId=0, lastFillPrice=0.0, clientId=0, whyHeld='', mktCapPrice=0.0), fills=[], log=[])]"
      ]
     },
     "execution_count": 2,
     "metadata": {},
     "output_type": "execute_result"
    }
   ],
   "source": [
    "try:\n",
    "    trades = ib.trades()\n",
    "except Exception as e:\n",
    "    print(e)\n",
    "    \n",
    "trades"
   ]
  }
 ],
 "metadata": {
  "kernelspec": {
   "display_name": "Python 3",
   "language": "python",
   "name": "python3"
  },
  "language_info": {
   "codemirror_mode": {
    "name": "ipython",
    "version": 3
   },
   "file_extension": ".py",
   "mimetype": "text/x-python",
   "name": "python",
   "nbconvert_exporter": "python",
   "pygments_lexer": "ipython3",
   "version": "3.8.3"
  }
 },
 "nbformat": 4,
 "nbformat_minor": 5
}
