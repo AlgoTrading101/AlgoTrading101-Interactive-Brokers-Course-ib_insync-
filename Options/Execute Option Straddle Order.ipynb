{
 "cells": [
  {
   "cell_type": "code",
   "execution_count": 1,
   "id": "70a20d34",
   "metadata": {},
   "outputs": [
    {
     "data": {
      "text/plain": [
       "<IB connected to 127.0.0.1:7497 clientId=1>"
      ]
     },
     "execution_count": 1,
     "metadata": {},
     "output_type": "execute_result"
    }
   ],
   "source": [
    "from ib_insync import *\n",
    "\n",
    "util.startLoop()\n",
    "\n",
    "ib = IB()\n",
    "ib.connect()"
   ]
  },
  {
   "cell_type": "code",
   "execution_count": 2,
   "id": "25879464",
   "metadata": {},
   "outputs": [],
   "source": [
    "spx_1 = Option('SPX', '20210916', 400, 'C', 'SMART')\n",
    "spx_2 = Option('SPX', '20210916', 400, 'P', 'SMART')\n",
    "\n",
    "try:\n",
    "    ib.qualifyContracts(spx_1)\n",
    "    ib.qualifyContracts(spx_2)\n",
    "except Exception as e:\n",
    "    print(e)"
   ]
  },
  {
   "cell_type": "code",
   "execution_count": 3,
   "id": "b10fd996",
   "metadata": {},
   "outputs": [],
   "source": [
    "contract = Contract()\n",
    "contract.symbol = spx_1.symbol\n",
    "contract.secType = 'BAG'\n",
    "contract.currency = spx_1.currency\n",
    "contract.exchange = spx_1.exchange\n",
    "\n",
    "leg1 = ComboLeg()\n",
    "leg1.conId = spx_1.conId\n",
    "leg1.ratio = 1\n",
    "leg1.action = 'BUY'\n",
    "leg1.exchange = spx_1.exchange\n",
    "\n",
    "leg2 = ComboLeg()\n",
    "leg2.conId = spx_2.conId\n",
    "leg2.ratio = 1\n",
    "leg2.action = 'BUY'\n",
    "leg2.exchange = spx_2.exchange\n",
    "\n",
    "contract.comboLegs = []\n",
    "contract.comboLegs.append(leg1)\n",
    "contract.comboLegs.append(leg2)"
   ]
  },
  {
   "cell_type": "code",
   "execution_count": 4,
   "id": "28ac8ad5",
   "metadata": {},
   "outputs": [
    {
     "data": {
      "text/plain": [
       "Contract(secType='BAG', symbol='SPX', exchange='SMART', currency='USD', comboLegs=[ComboLeg(conId=433879573, ratio=1, action='BUY', exchange='SMART', openClose=0, shortSaleSlot=0, designatedLocation='', exemptCode=-1), ComboLeg(conId=433879596, ratio=1, action='BUY', exchange='SMART', openClose=0, shortSaleSlot=0, designatedLocation='', exemptCode=-1)])"
      ]
     },
     "execution_count": 4,
     "metadata": {},
     "output_type": "execute_result"
    }
   ],
   "source": [
    "contract"
   ]
  },
  {
   "cell_type": "code",
   "execution_count": 5,
   "id": "278e2de8",
   "metadata": {},
   "outputs": [],
   "source": [
    "try:\n",
    "    order = LimitOrder('BUY', 2, 0.8)\n",
    "    trade = ib.placeOrder(contract, order)\n",
    "except Exception as e:\n",
    "    print(e)"
   ]
  },
  {
   "cell_type": "code",
   "execution_count": 7,
   "id": "1513c72d",
   "metadata": {},
   "outputs": [
    {
     "data": {
      "text/plain": [
       "[TradeLogEntry(time=datetime.datetime(2021, 9, 8, 19, 17, 45, 675925, tzinfo=datetime.timezone.utc), status='PendingSubmit', message=''),\n",
       " TradeLogEntry(time=datetime.datetime(2021, 9, 8, 19, 17, 45, 841737, tzinfo=datetime.timezone.utc), status='PreSubmitted', message=''),\n",
       " TradeLogEntry(time=datetime.datetime(2021, 9, 8, 19, 17, 50, 845968, tzinfo=datetime.timezone.utc), status='Submitted', message='')]"
      ]
     },
     "execution_count": 7,
     "metadata": {},
     "output_type": "execute_result"
    }
   ],
   "source": [
    "trade.log"
   ]
  },
  {
   "cell_type": "code",
   "execution_count": null,
   "id": "50ce4c44",
   "metadata": {},
   "outputs": [],
   "source": []
  }
 ],
 "metadata": {
  "kernelspec": {
   "display_name": "Python 3",
   "language": "python",
   "name": "python3"
  },
  "language_info": {
   "codemirror_mode": {
    "name": "ipython",
    "version": 3
   },
   "file_extension": ".py",
   "mimetype": "text/x-python",
   "name": "python",
   "nbconvert_exporter": "python",
   "pygments_lexer": "ipython3",
   "version": "3.8.8"
  }
 },
 "nbformat": 4,
 "nbformat_minor": 5
}
