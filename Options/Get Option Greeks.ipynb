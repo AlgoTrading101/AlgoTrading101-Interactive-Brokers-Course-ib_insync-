{
 "cells": [
  {
   "cell_type": "code",
   "execution_count": 1,
   "id": "7dc5035f",
   "metadata": {},
   "outputs": [],
   "source": [
    "from ib_insync import *\n",
    "util.startLoop()\n",
    "\n",
    "ib = IB()\n",
    "ib.connect()\n",
    "\n",
    "ib.reqMarketDataType(3)"
   ]
  },
  {
   "cell_type": "code",
   "execution_count": 2,
   "id": "757c16ac",
   "metadata": {},
   "outputs": [],
   "source": [
    "contract = Option('SPX', '20210916', 400, 'P', 'SMART')"
   ]
  },
  {
   "cell_type": "code",
   "execution_count": 3,
   "id": "22764486",
   "metadata": {},
   "outputs": [
    {
     "name": "stderr",
     "output_type": "stream",
     "text": [
      "Error 10090, reqId 677: Part of requested market data is not subscribed. Subscription-independent ticks are still active.Delayed market data is available.SPX S&P 500 Stock Index/TOP/ALL, contract: Option(conId=433879596, symbol='SPX', lastTradeDateOrContractMonth='20210916', strike=400.0, right='P', multiplier='100', exchange='SMART', currency='USD', localSymbol='SPX   210917P00400000', tradingClass='SPX')\n"
     ]
    }
   ],
   "source": [
    "try:\n",
    "    ib.qualifyContracts(contract)\n",
    "    tickers = ib.reqTickers(contract)\n",
    "except Exception as e:\n",
    "    print(e)"
   ]
  },
  {
   "cell_type": "code",
   "execution_count": 4,
   "id": "6359f36e",
   "metadata": {},
   "outputs": [
    {
     "data": {
      "text/plain": [
       "[Ticker(contract=Option(conId=433879596, symbol='SPX', lastTradeDateOrContractMonth='20210916', strike=400.0, right='P', multiplier='100', exchange='SMART', currency='USD', localSymbol='SPX   210917P00400000', tradingClass='SPX'), time=datetime.datetime(2021, 9, 7, 17, 6, 3, 998157, tzinfo=datetime.timezone.utc), marketDataType=3, bid=-1.0, bidSize=0, ask=0.05, askSize=3114, last=0.0, lastSize=0, close=0.0, bidGreeks=OptionComputation(impliedVol=None, delta=None, optPrice=None, pvDividend=2.238936963099188, gamma=None, vega=None, theta=None, undPrice=4526.75), askGreeks=OptionComputation(impliedVol=4.297045200696594, delta=-9.140543130325973e-05, optPrice=0.05000000074505806, pvDividend=2.238936963099188, gamma=1.121072928499925e-07, vega=0.0027456563305171327, theta=-0.05000000074505806, undPrice=4526.68017578125), lastGreeks=OptionComputation(impliedVol=None, delta=None, optPrice=None, pvDividend=2.238936963099188, gamma=None, vega=None, theta=None, undPrice=4526.75), modelGreeks=OptionComputation(impliedVol=1.8462167247112136, delta=-4.440892098500626e-16, optPrice=3.4434993450131766e-13, pvDividend=2.238936963099188, gamma=2.885782350336977e-18, vega=3.036607376363316e-14, theta=-2.758198673877873e-13, undPrice=4526.68017578125))]"
      ]
     },
     "execution_count": 4,
     "metadata": {},
     "output_type": "execute_result"
    }
   ],
   "source": [
    "tickers"
   ]
  },
  {
   "cell_type": "code",
   "execution_count": 6,
   "id": "dfbeff60",
   "metadata": {},
   "outputs": [
    {
     "data": {
      "text/plain": [
       "OptionComputation(impliedVol=None, delta=None, optPrice=None, pvDividend=2.238936963099188, gamma=None, vega=None, theta=None, undPrice=4526.75)"
      ]
     },
     "execution_count": 6,
     "metadata": {},
     "output_type": "execute_result"
    }
   ],
   "source": [
    "tickers[0].bidGreeks"
   ]
  },
  {
   "cell_type": "code",
   "execution_count": null,
   "id": "414ffd5d",
   "metadata": {},
   "outputs": [],
   "source": []
  }
 ],
 "metadata": {
  "kernelspec": {
   "display_name": "Python 3",
   "language": "python",
   "name": "python3"
  },
  "language_info": {
   "codemirror_mode": {
    "name": "ipython",
    "version": 3
   },
   "file_extension": ".py",
   "mimetype": "text/x-python",
   "name": "python",
   "nbconvert_exporter": "python",
   "pygments_lexer": "ipython3",
   "version": "3.8.8"
  }
 },
 "nbformat": 4,
 "nbformat_minor": 5
}
