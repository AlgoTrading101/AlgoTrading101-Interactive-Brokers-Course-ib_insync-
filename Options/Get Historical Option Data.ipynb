{
 "cells": [
  {
   "cell_type": "code",
   "execution_count": 1,
   "id": "2608137c",
   "metadata": {},
   "outputs": [],
   "source": [
    "from ib_insync import *\n",
    "\n",
    "util.startLoop()\n",
    "\n",
    "ib = IB()\n",
    "ib.connect()\n",
    "\n",
    "ib.reqMarketDataType(3)"
   ]
  },
  {
   "cell_type": "code",
   "execution_count": 2,
   "id": "6d81c6ec",
   "metadata": {},
   "outputs": [],
   "source": [
    "contract = Option('SPX', '20210916', 400, 'C', 'SMART')"
   ]
  },
  {
   "cell_type": "code",
   "execution_count": 3,
   "id": "76051216",
   "metadata": {},
   "outputs": [],
   "source": [
    "try:\n",
    "    ib.qualifyContracts(contract)\n",
    "    data = ib.reqHistoricalData(\n",
    "        contract,\n",
    "        '', # endTime\n",
    "        barSizeSetting='15 mins', \n",
    "        durationStr='2 D', \n",
    "        whatToShow='MIDPOINT', \n",
    "        useRTH=True # RegularTradingHours\n",
    "        )\n",
    "except Exception as e:\n",
    "    print(e)"
   ]
  },
  {
   "cell_type": "code",
   "execution_count": 6,
   "id": "2bed6548",
   "metadata": {},
   "outputs": [
    {
     "data": {
      "text/plain": [
       "4126.8"
      ]
     },
     "execution_count": 6,
     "metadata": {},
     "output_type": "execute_result"
    }
   ],
   "source": [
    "data[0].open"
   ]
  },
  {
   "cell_type": "code",
   "execution_count": null,
   "id": "301af668",
   "metadata": {},
   "outputs": [],
   "source": []
  }
 ],
 "metadata": {
  "kernelspec": {
   "display_name": "Python 3",
   "language": "python",
   "name": "python3"
  },
  "language_info": {
   "codemirror_mode": {
    "name": "ipython",
    "version": 3
   },
   "file_extension": ".py",
   "mimetype": "text/x-python",
   "name": "python",
   "nbconvert_exporter": "python",
   "pygments_lexer": "ipython3",
   "version": "3.8.8"
  }
 },
 "nbformat": 4,
 "nbformat_minor": 5
}
