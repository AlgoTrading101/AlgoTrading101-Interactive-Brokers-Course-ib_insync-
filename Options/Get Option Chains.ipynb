{
 "cells": [
  {
   "cell_type": "code",
   "execution_count": 1,
   "id": "425309db",
   "metadata": {},
   "outputs": [],
   "source": [
    "from ib_insync import *\n",
    "util.startLoop()\n",
    "\n",
    "ib = IB()\n",
    "ib.connect()\n",
    "\n",
    "ib.reqMarketDataType(3)"
   ]
  },
  {
   "cell_type": "code",
   "execution_count": 2,
   "id": "e3fc56f8",
   "metadata": {},
   "outputs": [],
   "source": [
    "spx_contract = Index('SPX', 'CBOE')\n",
    "\n",
    "try:\n",
    "    ib.qualifyContracts(spx_contract)\n",
    "except Exception as e:\n",
    "    print(e)"
   ]
  },
  {
   "cell_type": "code",
   "execution_count": 3,
   "id": "e918c959",
   "metadata": {},
   "outputs": [
    {
     "data": {
      "text/html": [
       "<div>\n",
       "<style scoped>\n",
       "    .dataframe tbody tr th:only-of-type {\n",
       "        vertical-align: middle;\n",
       "    }\n",
       "\n",
       "    .dataframe tbody tr th {\n",
       "        vertical-align: top;\n",
       "    }\n",
       "\n",
       "    .dataframe thead th {\n",
       "        text-align: right;\n",
       "    }\n",
       "</style>\n",
       "<table border=\"1\" class=\"dataframe\">\n",
       "  <thead>\n",
       "    <tr style=\"text-align: right;\">\n",
       "      <th></th>\n",
       "      <th>exchange</th>\n",
       "      <th>underlyingConId</th>\n",
       "      <th>tradingClass</th>\n",
       "      <th>multiplier</th>\n",
       "      <th>expirations</th>\n",
       "      <th>strikes</th>\n",
       "    </tr>\n",
       "  </thead>\n",
       "  <tbody>\n",
       "    <tr>\n",
       "      <th>0</th>\n",
       "      <td>SMART</td>\n",
       "      <td>416904</td>\n",
       "      <td>SPX</td>\n",
       "      <td>100</td>\n",
       "      <td>[20210916, 20211014, 20211118, 20211216, 20220...</td>\n",
       "      <td>[100.0, 200.0, 300.0, 400.0, 500.0, 600.0, 700...</td>\n",
       "    </tr>\n",
       "    <tr>\n",
       "      <th>1</th>\n",
       "      <td>CBOE</td>\n",
       "      <td>416904</td>\n",
       "      <td>SPXW</td>\n",
       "      <td>100</td>\n",
       "      <td>[20210907, 20210908, 20210910, 20210913, 20210...</td>\n",
       "      <td>[100.0, 200.0, 300.0, 400.0, 500.0, 600.0, 700...</td>\n",
       "    </tr>\n",
       "    <tr>\n",
       "      <th>2</th>\n",
       "      <td>SMART</td>\n",
       "      <td>416904</td>\n",
       "      <td>SPXW</td>\n",
       "      <td>100</td>\n",
       "      <td>[20210907, 20210908, 20210910, 20210913, 20210...</td>\n",
       "      <td>[100.0, 200.0, 300.0, 400.0, 500.0, 600.0, 700...</td>\n",
       "    </tr>\n",
       "    <tr>\n",
       "      <th>3</th>\n",
       "      <td>CBOE</td>\n",
       "      <td>416904</td>\n",
       "      <td>SPX</td>\n",
       "      <td>100</td>\n",
       "      <td>[20210916, 20211014, 20211118, 20211216, 20220...</td>\n",
       "      <td>[100.0, 200.0, 300.0, 400.0, 500.0, 600.0, 700...</td>\n",
       "    </tr>\n",
       "  </tbody>\n",
       "</table>\n",
       "</div>"
      ],
      "text/plain": [
       "  exchange underlyingConId tradingClass multiplier  \\\n",
       "0    SMART          416904          SPX        100   \n",
       "1     CBOE          416904         SPXW        100   \n",
       "2    SMART          416904         SPXW        100   \n",
       "3     CBOE          416904          SPX        100   \n",
       "\n",
       "                                         expirations  \\\n",
       "0  [20210916, 20211014, 20211118, 20211216, 20220...   \n",
       "1  [20210907, 20210908, 20210910, 20210913, 20210...   \n",
       "2  [20210907, 20210908, 20210910, 20210913, 20210...   \n",
       "3  [20210916, 20211014, 20211118, 20211216, 20220...   \n",
       "\n",
       "                                             strikes  \n",
       "0  [100.0, 200.0, 300.0, 400.0, 500.0, 600.0, 700...  \n",
       "1  [100.0, 200.0, 300.0, 400.0, 500.0, 600.0, 700...  \n",
       "2  [100.0, 200.0, 300.0, 400.0, 500.0, 600.0, 700...  \n",
       "3  [100.0, 200.0, 300.0, 400.0, 500.0, 600.0, 700...  "
      ]
     },
     "execution_count": 3,
     "metadata": {},
     "output_type": "execute_result"
    }
   ],
   "source": [
    "try:\n",
    "    chains = ib.reqSecDefOptParams(spx_contract.symbol, '', \n",
    "                                   spx_contract.secType, spx_contract.conId\n",
    "                                  )\n",
    "except Exception as e:\n",
    "    print(e)\n",
    "    \n",
    "util.df(chains)"
   ]
  },
  {
   "cell_type": "code",
   "execution_count": null,
   "id": "633568c1",
   "metadata": {},
   "outputs": [],
   "source": []
  }
 ],
 "metadata": {
  "kernelspec": {
   "display_name": "Python 3",
   "language": "python",
   "name": "python3"
  },
  "language_info": {
   "codemirror_mode": {
    "name": "ipython",
    "version": 3
   },
   "file_extension": ".py",
   "mimetype": "text/x-python",
   "name": "python",
   "nbconvert_exporter": "python",
   "pygments_lexer": "ipython3",
   "version": "3.8.8"
  }
 },
 "nbformat": 4,
 "nbformat_minor": 5
}
