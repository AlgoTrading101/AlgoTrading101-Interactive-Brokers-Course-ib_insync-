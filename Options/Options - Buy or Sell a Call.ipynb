{
 "cells": [
  {
   "cell_type": "code",
   "execution_count": 1,
   "id": "c36ea6e1",
   "metadata": {},
   "outputs": [
    {
     "data": {
      "text/plain": [
       "<IB connected to 127.0.0.1:7497 clientId=1>"
      ]
     },
     "execution_count": 1,
     "metadata": {},
     "output_type": "execute_result"
    }
   ],
   "source": [
    "from ib_insync import *\n",
    "util.startLoop()\n",
    "\n",
    "ib = IB()\n",
    "ib.connect()"
   ]
  },
  {
   "cell_type": "code",
   "execution_count": 2,
   "id": "6fd124c4",
   "metadata": {},
   "outputs": [],
   "source": [
    "contract = Option('SPX', '20210916', 400, 'C', 'SMART')\n",
    "\n",
    "order = LimitOrder('SELL', 10000, 0.8)"
   ]
  },
  {
   "cell_type": "code",
   "execution_count": 3,
   "id": "dc5108bf",
   "metadata": {},
   "outputs": [],
   "source": [
    "try:\n",
    "    ib.qualifyContracts(contract)\n",
    "    trade = ib.placeOrder(contract, order)\n",
    "except Exception as e:\n",
    "    print(e)"
   ]
  },
  {
   "cell_type": "code",
   "execution_count": 4,
   "id": "0448eb90",
   "metadata": {},
   "outputs": [
    {
     "data": {
      "text/plain": [
       "[TradeLogEntry(time=datetime.datetime(2021, 9, 7, 17, 14, 32, 118996, tzinfo=datetime.timezone.utc), status='PendingSubmit', message=''),\n",
       " TradeLogEntry(time=datetime.datetime(2021, 9, 7, 17, 14, 32, 249626, tzinfo=datetime.timezone.utc), status='Submitted', message='')]"
      ]
     },
     "execution_count": 4,
     "metadata": {},
     "output_type": "execute_result"
    }
   ],
   "source": [
    "trade.log"
   ]
  },
  {
   "cell_type": "code",
   "execution_count": null,
   "id": "0ada9243",
   "metadata": {},
   "outputs": [],
   "source": []
  }
 ],
 "metadata": {
  "kernelspec": {
   "display_name": "Python 3",
   "language": "python",
   "name": "python3"
  },
  "language_info": {
   "codemirror_mode": {
    "name": "ipython",
    "version": 3
   },
   "file_extension": ".py",
   "mimetype": "text/x-python",
   "name": "python",
   "nbconvert_exporter": "python",
   "pygments_lexer": "ipython3",
   "version": "3.8.8"
  }
 },
 "nbformat": 4,
 "nbformat_minor": 5
}
