{
 "cells": [
  {
   "cell_type": "code",
   "execution_count": 1,
   "id": "70a20d34",
   "metadata": {},
   "outputs": [
    {
     "data": {
      "text/plain": [
       "<IB connected to 127.0.0.1:7497 clientId=1>"
      ]
     },
     "execution_count": 1,
     "metadata": {},
     "output_type": "execute_result"
    }
   ],
   "source": [
    "from ib_insync import *\n",
    "\n",
    "util.startLoop()\n",
    "\n",
    "ib = IB()\n",
    "ib.connect()"
   ]
  },
  {
   "cell_type": "code",
   "execution_count": 2,
   "id": "b10fd996",
   "metadata": {},
   "outputs": [],
   "source": [
    "contract = Contract(symbol='INTC', secType='STK', exchange='SMART', currency='USD', \n",
    "                    comboLegs = [ComboLeg(conId=38709539, ratio=1, action='BUY'),\n",
    "                                 ComboLeg(conId=270639, ratio=1, action='BUY')\n",
    "                                ]\n",
    "                   )\n",
    "\n",
    "try:\n",
    "    order = LimitOrder('BUY', 50, 52.10)\n",
    "    trade = ib.placeOrder(contract, order)\n",
    "except Exception as e:\n",
    "    print(e)"
   ]
  },
  {
   "cell_type": "code",
   "execution_count": 3,
   "id": "1513c72d",
   "metadata": {},
   "outputs": [
    {
     "data": {
      "text/plain": [
       "[TradeLogEntry(time=datetime.datetime(2021, 8, 16, 20, 47, 5, 748937, tzinfo=datetime.timezone.utc), status='PendingSubmit', message=''),\n",
       " TradeLogEntry(time=datetime.datetime(2021, 8, 16, 20, 47, 5, 997434, tzinfo=datetime.timezone.utc), status='PreSubmitted', message=''),\n",
       " TradeLogEntry(time=datetime.datetime(2021, 8, 16, 20, 47, 6, 165069, tzinfo=datetime.timezone.utc), status='Submitted', message='')]"
      ]
     },
     "execution_count": 3,
     "metadata": {},
     "output_type": "execute_result"
    }
   ],
   "source": [
    "trade.log"
   ]
  },
  {
   "cell_type": "code",
   "execution_count": null,
   "id": "50ce4c44",
   "metadata": {},
   "outputs": [],
   "source": []
  }
 ],
 "metadata": {
  "kernelspec": {
   "display_name": "Python 3",
   "language": "python",
   "name": "python3"
  },
  "language_info": {
   "codemirror_mode": {
    "name": "ipython",
    "version": 3
   },
   "file_extension": ".py",
   "mimetype": "text/x-python",
   "name": "python",
   "nbconvert_exporter": "python",
   "pygments_lexer": "ipython3",
   "version": "3.8.3"
  }
 },
 "nbformat": 4,
 "nbformat_minor": 5
}
