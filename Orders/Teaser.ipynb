{
 "cells": [
  {
   "cell_type": "code",
   "execution_count": 1,
   "id": "fa44be6c",
   "metadata": {},
   "outputs": [
    {
     "data": {
      "text/plain": [
       "<IB connected to 127.0.0.1:7497 clientId=1>"
      ]
     },
     "execution_count": 1,
     "metadata": {},
     "output_type": "execute_result"
    }
   ],
   "source": [
    "from ib_insync import *\n",
    "\n",
    "util.startLoop()\n",
    "\n",
    "ib = IB()\n",
    "ib.connect()"
   ]
  },
  {
   "cell_type": "code",
   "execution_count": 2,
   "id": "a5d59251",
   "metadata": {},
   "outputs": [
    {
     "data": {
      "text/plain": [
       "[Stock(conId=311892159, symbol='DBX', exchange='SMART', primaryExchange='NASDAQ', currency='USD', localSymbol='DBX', tradingClass='NMS')]"
      ]
     },
     "execution_count": 2,
     "metadata": {},
     "output_type": "execute_result"
    }
   ],
   "source": [
    "# Set up the contracts\n",
    "box_contract = Stock('BOX', 'SMART', 'USD')\n",
    "dbx_contract = Stock('DBX', 'SMART', 'USD')\n",
    "\n",
    "ib.qualifyContracts(box_contract)\n",
    "ib.qualifyContracts(dbx_contract)"
   ]
  },
  {
   "cell_type": "code",
   "execution_count": 3,
   "id": "d89d883a",
   "metadata": {},
   "outputs": [],
   "source": [
    "# Create order logic\n",
    "perc_change_condition = PercentChangeCondition(\n",
    "    changePercent=0.0001,\n",
    "    conId=dbx_contract.conId,\n",
    "    exch=dbx_contract.exchange\n",
    "    )\n",
    "\n",
    "box_order = MarketOrder('BUY', 100)\n",
    "box_order.conditions.append(perc_change_condition)"
   ]
  },
  {
   "cell_type": "code",
   "execution_count": 4,
   "id": "f80f7737",
   "metadata": {},
   "outputs": [],
   "source": [
    "box_trade = ib.placeOrder(box_contract, box_order)"
   ]
  },
  {
   "cell_type": "code",
   "execution_count": 5,
   "id": "23902a3b",
   "metadata": {},
   "outputs": [
    {
     "data": {
      "text/plain": [
       "[TradeLogEntry(time=datetime.datetime(2021, 8, 21, 19, 15, 5, 461874, tzinfo=datetime.timezone.utc), status='PendingSubmit', message=''),\n",
       " TradeLogEntry(time=datetime.datetime(2021, 8, 21, 19, 15, 5, 595062, tzinfo=datetime.timezone.utc), status='PreSubmitted', message='')]"
      ]
     },
     "execution_count": 5,
     "metadata": {},
     "output_type": "execute_result"
    }
   ],
   "source": [
    "box_trade.log"
   ]
  },
  {
   "cell_type": "code",
   "execution_count": null,
   "id": "a62070cf",
   "metadata": {},
   "outputs": [],
   "source": []
  }
 ],
 "metadata": {
  "kernelspec": {
   "display_name": "Python 3",
   "language": "python",
   "name": "python3"
  },
  "language_info": {
   "codemirror_mode": {
    "name": "ipython",
    "version": 3
   },
   "file_extension": ".py",
   "mimetype": "text/x-python",
   "name": "python",
   "nbconvert_exporter": "python",
   "pygments_lexer": "ipython3",
   "version": "3.8.8"
  }
 },
 "nbformat": 4,
 "nbformat_minor": 5
}
