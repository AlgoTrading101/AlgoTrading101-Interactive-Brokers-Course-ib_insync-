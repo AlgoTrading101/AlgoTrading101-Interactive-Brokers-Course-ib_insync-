{
 "cells": [
  {
   "cell_type": "code",
   "execution_count": 1,
   "id": "0c9724d4",
   "metadata": {},
   "outputs": [
    {
     "data": {
      "text/plain": [
       "<IB connected to 127.0.0.1:7497 clientId=1>"
      ]
     },
     "execution_count": 1,
     "metadata": {},
     "output_type": "execute_result"
    }
   ],
   "source": [
    "from ib_insync import *\n",
    "\n",
    "util.startLoop()\n",
    "\n",
    "ib = IB()\n",
    "ib.connect()"
   ]
  },
  {
   "cell_type": "code",
   "execution_count": 2,
   "id": "5d8dfaf3",
   "metadata": {},
   "outputs": [],
   "source": [
    "contract = Option('SPY', '20210816', 450, 'C', 'SMART')\n",
    "\n",
    "order = LimitOrder('BUY', 10000, 0.08)"
   ]
  },
  {
   "cell_type": "code",
   "execution_count": 3,
   "id": "85b62c6c",
   "metadata": {},
   "outputs": [],
   "source": [
    "try:\n",
    "    ib.qualifyContracts(contract)\n",
    "    trade = ib.placeOrder(contract, order)\n",
    "except Exception as e:\n",
    "    print(e)"
   ]
  },
  {
   "cell_type": "code",
   "execution_count": 4,
   "id": "e44af390",
   "metadata": {},
   "outputs": [
    {
     "data": {
      "text/plain": [
       "[TradeLogEntry(time=datetime.datetime(2021, 8, 16, 19, 45, 33, 964481, tzinfo=datetime.timezone.utc), status='PendingSubmit', message=''),\n",
       " TradeLogEntry(time=datetime.datetime(2021, 8, 16, 19, 45, 34, 105237, tzinfo=datetime.timezone.utc), status='Submitted', message=''),\n",
       " TradeLogEntry(time=datetime.datetime(2021, 8, 16, 19, 45, 34, 234491, tzinfo=datetime.timezone.utc), status='Submitted', message='Fill 1339.0@0.01'),\n",
       " TradeLogEntry(time=datetime.datetime(2021, 8, 16, 19, 45, 34, 234491, tzinfo=datetime.timezone.utc), status='Submitted', message=''),\n",
       " TradeLogEntry(time=datetime.datetime(2021, 8, 16, 19, 45, 34, 237493, tzinfo=datetime.timezone.utc), status='Submitted', message='Fill 729.0@0.01'),\n",
       " TradeLogEntry(time=datetime.datetime(2021, 8, 16, 19, 45, 34, 237493, tzinfo=datetime.timezone.utc), status='Submitted', message=''),\n",
       " TradeLogEntry(time=datetime.datetime(2021, 8, 16, 19, 45, 34, 241496, tzinfo=datetime.timezone.utc), status='Submitted', message='Fill 782.0@0.01'),\n",
       " TradeLogEntry(time=datetime.datetime(2021, 8, 16, 19, 45, 34, 241496, tzinfo=datetime.timezone.utc), status='Submitted', message=''),\n",
       " TradeLogEntry(time=datetime.datetime(2021, 8, 16, 19, 45, 34, 246502, tzinfo=datetime.timezone.utc), status='Submitted', message='Fill 207.0@0.01'),\n",
       " TradeLogEntry(time=datetime.datetime(2021, 8, 16, 19, 45, 34, 246502, tzinfo=datetime.timezone.utc), status='Submitted', message='')]"
      ]
     },
     "execution_count": 4,
     "metadata": {},
     "output_type": "execute_result"
    }
   ],
   "source": [
    "trade.log"
   ]
  },
  {
   "cell_type": "code",
   "execution_count": null,
   "id": "59d8cd9d",
   "metadata": {},
   "outputs": [],
   "source": []
  }
 ],
 "metadata": {
  "kernelspec": {
   "display_name": "Python 3",
   "language": "python",
   "name": "python3"
  },
  "language_info": {
   "codemirror_mode": {
    "name": "ipython",
    "version": 3
   },
   "file_extension": ".py",
   "mimetype": "text/x-python",
   "name": "python",
   "nbconvert_exporter": "python",
   "pygments_lexer": "ipython3",
   "version": "3.8.3"
  }
 },
 "nbformat": 4,
 "nbformat_minor": 5
}
