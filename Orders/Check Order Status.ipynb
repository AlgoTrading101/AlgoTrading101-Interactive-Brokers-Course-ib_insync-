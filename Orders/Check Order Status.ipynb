{
 "cells": [
  {
   "cell_type": "code",
   "execution_count": 1,
   "id": "07b3cb16",
   "metadata": {},
   "outputs": [
    {
     "data": {
      "text/plain": [
       "<IB connected to 127.0.0.1:7497 clientId=1>"
      ]
     },
     "execution_count": 1,
     "metadata": {},
     "output_type": "execute_result"
    }
   ],
   "source": [
    "from ib_insync import *\n",
    "\n",
    "util.startLoop()\n",
    "\n",
    "ib = IB()\n",
    "ib.connect()"
   ]
  },
  {
   "cell_type": "code",
   "execution_count": 2,
   "id": "fb3bc8b4",
   "metadata": {},
   "outputs": [],
   "source": [
    "def order_status(trade):\n",
    "    if trade.orderStatus.status == 'Filled':\n",
    "        fill = trade.fills[-1]\n",
    "        \n",
    "        print(f'{fill.time} - {fill.execution.side} {fill.contract.symbol} \\\n",
    "                {fill.execution.shares} @ {fill.execution.avgPrice}')"
   ]
  },
  {
   "cell_type": "code",
   "execution_count": 3,
   "id": "a46dce05",
   "metadata": {},
   "outputs": [],
   "source": [
    "contract = Stock('TSLA', 'SMART', 'USD')\n",
    "order = MarketOrder('BUY', 50)"
   ]
  },
  {
   "cell_type": "code",
   "execution_count": 4,
   "id": "f55092c7",
   "metadata": {},
   "outputs": [
    {
     "name": "stdout",
     "output_type": "stream",
     "text": [
      "2021-08-13 19:38:17.901642+00:00 - BOT TSLA                 50.0 @ 716.5\n"
     ]
    }
   ],
   "source": [
    "try:\n",
    "    ib.qualifyContracts(contract)\n",
    "    trade = ib.placeOrder(contract, order)\n",
    "    trade.filledEvent += order_status\n",
    "except Exception as e:\n",
    "    print(e)"
   ]
  }
 ],
 "metadata": {
  "kernelspec": {
   "display_name": "Python 3",
   "language": "python",
   "name": "python3"
  },
  "language_info": {
   "codemirror_mode": {
    "name": "ipython",
    "version": 3
   },
   "file_extension": ".py",
   "mimetype": "text/x-python",
   "name": "python",
   "nbconvert_exporter": "python",
   "pygments_lexer": "ipython3",
   "version": "3.8.3"
  }
 },
 "nbformat": 4,
 "nbformat_minor": 5
}
