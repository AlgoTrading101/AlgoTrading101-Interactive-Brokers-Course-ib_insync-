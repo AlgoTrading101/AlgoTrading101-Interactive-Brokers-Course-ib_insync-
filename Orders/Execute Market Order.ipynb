{
 "cells": [
  {
   "cell_type": "code",
   "execution_count": 1,
   "id": "33f6384c",
   "metadata": {},
   "outputs": [
    {
     "data": {
      "text/plain": [
       "<IB connected to 127.0.0.1:7497 clientId=1>"
      ]
     },
     "execution_count": 1,
     "metadata": {},
     "output_type": "execute_result"
    }
   ],
   "source": [
    "from ib_insync import *\n",
    "\n",
    "util.startLoop()\n",
    "\n",
    "ib = IB()\n",
    "ib.connect()"
   ]
  },
  {
   "cell_type": "code",
   "execution_count": 2,
   "id": "b8215cee",
   "metadata": {},
   "outputs": [],
   "source": [
    "contract = Stock('TSLA', 'SMART', 'USD')\n",
    "order = MarketOrder('BUY', 10)"
   ]
  },
  {
   "cell_type": "code",
   "execution_count": 3,
   "id": "96efb560",
   "metadata": {},
   "outputs": [],
   "source": [
    "try:\n",
    "    ib.qualifyContracts(contract)\n",
    "    trade = ib.placeOrder(contract, order)\n",
    "except Exception as e:\n",
    "    print(e)"
   ]
  },
  {
   "cell_type": "code",
   "execution_count": 4,
   "id": "79c481df",
   "metadata": {},
   "outputs": [
    {
     "data": {
      "text/plain": [
       "[TradeLogEntry(time=datetime.datetime(2021, 8, 13, 18, 35, 2, 770946, tzinfo=datetime.timezone.utc), status='PendingSubmit', message=''),\n",
       " TradeLogEntry(time=datetime.datetime(2021, 8, 13, 18, 35, 2, 915096, tzinfo=datetime.timezone.utc), status='Submitted', message=''),\n",
       " TradeLogEntry(time=datetime.datetime(2021, 8, 13, 18, 35, 5, 86642, tzinfo=datetime.timezone.utc), status='Submitted', message='Fill 10.0@718.57'),\n",
       " TradeLogEntry(time=datetime.datetime(2021, 8, 13, 18, 35, 5, 87644, tzinfo=datetime.timezone.utc), status='Filled', message='')]"
      ]
     },
     "execution_count": 4,
     "metadata": {},
     "output_type": "execute_result"
    }
   ],
   "source": [
    "trade.log"
   ]
  }
 ],
 "metadata": {
  "kernelspec": {
   "display_name": "Python 3",
   "language": "python",
   "name": "python3"
  },
  "language_info": {
   "codemirror_mode": {
    "name": "ipython",
    "version": 3
   },
   "file_extension": ".py",
   "mimetype": "text/x-python",
   "name": "python",
   "nbconvert_exporter": "python",
   "pygments_lexer": "ipython3",
   "version": "3.8.3"
  }
 },
 "nbformat": 4,
 "nbformat_minor": 5
}
