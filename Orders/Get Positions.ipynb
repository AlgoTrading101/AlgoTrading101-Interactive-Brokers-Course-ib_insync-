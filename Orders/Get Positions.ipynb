{
 "cells": [
  {
   "cell_type": "code",
   "execution_count": 1,
   "id": "fc78fa2a",
   "metadata": {},
   "outputs": [
    {
     "data": {
      "text/plain": [
       "<IB connected to 127.0.0.1:7497 clientId=1>"
      ]
     },
     "execution_count": 1,
     "metadata": {},
     "output_type": "execute_result"
    }
   ],
   "source": [
    "from ib_insync import *\n",
    "\n",
    "util.startLoop()\n",
    "\n",
    "ib = IB()\n",
    "ib.connect()"
   ]
  },
  {
   "cell_type": "code",
   "execution_count": 2,
   "id": "bfda738f",
   "metadata": {},
   "outputs": [],
   "source": [
    "try:\n",
    "    positions = ib.positions()\n",
    "except Exception as e:\n",
    "    print(e)"
   ]
  },
  {
   "cell_type": "code",
   "execution_count": 3,
   "id": "473fb44f",
   "metadata": {},
   "outputs": [
    {
     "data": {
      "text/plain": [
       "[Position(account='DU229627', contract=Stock(conId=265598, symbol='AAPL', exchange='NASDAQ', currency='USD', localSymbol='AAPL', tradingClass='NMS'), position=20.0, avgCost=151.59),\n",
       " Position(account='DU229627', contract=Stock(conId=311892159, symbol='DBX', exchange='NASDAQ', currency='USD', localSymbol='DBX', tradingClass='NMS'), position=-20.0, avgCost=31.1497219),\n",
       " Position(account='DU229627', contract=Stock(conId=107113386, symbol='FB', exchange='NASDAQ', currency='USD', localSymbol='FB', tradingClass='NMS'), position=50.0, avgCost=366.71),\n",
       " Position(account='DU229627', contract=Stock(conId=181158987, symbol='BOX', exchange='NYSE', currency='USD', localSymbol='BOX', tradingClass='BOX'), position=20.0, avgCost=25.49),\n",
       " Position(account='DU229627', contract=Option(conId=501731827, symbol='SPY', lastTradeDateOrContractMonth='20210816', strike=450.0, right='C', multiplier='100', currency='USD', localSymbol='SPY   210816C00450000', tradingClass='SPY'), position=20102.0, avgCost=1.5597103)]"
      ]
     },
     "execution_count": 3,
     "metadata": {},
     "output_type": "execute_result"
    }
   ],
   "source": [
    "positions"
   ]
  },
  {
   "cell_type": "code",
   "execution_count": null,
   "id": "7a5471c6",
   "metadata": {},
   "outputs": [],
   "source": []
  }
 ],
 "metadata": {
  "kernelspec": {
   "display_name": "Python 3",
   "language": "python",
   "name": "python3"
  },
  "language_info": {
   "codemirror_mode": {
    "name": "ipython",
    "version": 3
   },
   "file_extension": ".py",
   "mimetype": "text/x-python",
   "name": "python",
   "nbconvert_exporter": "python",
   "pygments_lexer": "ipython3",
   "version": "3.8.3"
  }
 },
 "nbformat": 4,
 "nbformat_minor": 5
}
