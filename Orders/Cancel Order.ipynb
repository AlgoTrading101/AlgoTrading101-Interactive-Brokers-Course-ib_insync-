{
 "cells": [
  {
   "cell_type": "code",
   "execution_count": 1,
   "id": "3535ec9c",
   "metadata": {},
   "outputs": [
    {
     "data": {
      "text/plain": [
       "<IB connected to 127.0.0.1:7497 clientId=1>"
      ]
     },
     "execution_count": 1,
     "metadata": {},
     "output_type": "execute_result"
    }
   ],
   "source": [
    "from ib_insync import *\n",
    "\n",
    "util.startLoop()\n",
    "\n",
    "ib = IB()\n",
    "ib.connect()"
   ]
  },
  {
   "cell_type": "code",
   "execution_count": 2,
   "id": "fab7f2c9",
   "metadata": {},
   "outputs": [],
   "source": [
    "contract = Stock('TSLA', 'SMART', 'USD')\n",
    "order = LimitOrder('SELL', 10, 800)"
   ]
  },
  {
   "cell_type": "code",
   "execution_count": 3,
   "id": "4e753a8c",
   "metadata": {},
   "outputs": [],
   "source": [
    "try:\n",
    "    ib.qualifyContracts(contract)\n",
    "    trade = ib.placeOrder(contract, order)\n",
    "except Exception as e:\n",
    "    print(e)"
   ]
  },
  {
   "cell_type": "code",
   "execution_count": 5,
   "id": "13e93e73",
   "metadata": {},
   "outputs": [
    {
     "data": {
      "text/plain": [
       "LimitOrder(orderId=31, clientId=1, permId=574179398, action='SELL', totalQuantity=10.0, lmtPrice=800.0, auxPrice=0.0)"
      ]
     },
     "execution_count": 5,
     "metadata": {},
     "output_type": "execute_result"
    }
   ],
   "source": [
    "trade.order"
   ]
  },
  {
   "cell_type": "code",
   "execution_count": 6,
   "id": "d400ea4c",
   "metadata": {},
   "outputs": [],
   "source": [
    "try:\n",
    "    ib.cancelOrder(trade.order)\n",
    "except Exception as e:\n",
    "    print(e)"
   ]
  }
 ],
 "metadata": {
  "kernelspec": {
   "display_name": "Python 3",
   "language": "python",
   "name": "python3"
  },
  "language_info": {
   "codemirror_mode": {
    "name": "ipython",
    "version": 3
   },
   "file_extension": ".py",
   "mimetype": "text/x-python",
   "name": "python",
   "nbconvert_exporter": "python",
   "pygments_lexer": "ipython3",
   "version": "3.8.3"
  }
 },
 "nbformat": 4,
 "nbformat_minor": 5
}
