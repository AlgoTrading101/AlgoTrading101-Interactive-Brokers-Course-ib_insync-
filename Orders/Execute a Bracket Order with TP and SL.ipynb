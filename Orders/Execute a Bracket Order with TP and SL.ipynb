{
 "cells": [
  {
   "cell_type": "code",
   "execution_count": 1,
   "id": "307a0df6",
   "metadata": {},
   "outputs": [
    {
     "data": {
      "text/plain": [
       "<IB connected to 127.0.0.1:7497 clientId=1>"
      ]
     },
     "execution_count": 1,
     "metadata": {},
     "output_type": "execute_result"
    }
   ],
   "source": [
    "from ib_insync import *\n",
    "\n",
    "util.startLoop()\n",
    "\n",
    "ib = IB()\n",
    "ib.connect()"
   ]
  },
  {
   "cell_type": "code",
   "execution_count": 2,
   "id": "058e30ea",
   "metadata": {},
   "outputs": [],
   "source": [
    "contract = Forex('EURUSD', 'IDEALPRO')\n",
    "\n",
    "orders = ib.bracketOrder(\n",
    "        'BUY',\n",
    "        10000,\n",
    "        limitPrice=1.19,\n",
    "        takeProfitPrice=1.21,\n",
    "        stopLossPrice=1.18\n",
    "    )"
   ]
  },
  {
   "cell_type": "code",
   "execution_count": 3,
   "id": "45686a45",
   "metadata": {},
   "outputs": [],
   "source": [
    "try:\n",
    "    ib.qualifyContracts(contract)\n",
    "    for order in orders:\n",
    "        ib.placeOrder(contract, order)\n",
    "except Exception as e:\n",
    "    print(e)"
   ]
  }
 ],
 "metadata": {
  "kernelspec": {
   "display_name": "Python 3",
   "language": "python",
   "name": "python3"
  },
  "language_info": {
   "codemirror_mode": {
    "name": "ipython",
    "version": 3
   },
   "file_extension": ".py",
   "mimetype": "text/x-python",
   "name": "python",
   "nbconvert_exporter": "python",
   "pygments_lexer": "ipython3",
   "version": "3.8.3"
  }
 },
 "nbformat": 4,
 "nbformat_minor": 5
}
