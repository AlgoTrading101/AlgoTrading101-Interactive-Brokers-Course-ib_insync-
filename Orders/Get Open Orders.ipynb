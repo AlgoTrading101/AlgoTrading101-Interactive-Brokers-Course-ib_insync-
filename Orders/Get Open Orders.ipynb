{
 "cells": [
  {
   "cell_type": "code",
   "execution_count": 1,
   "id": "0aa123e1",
   "metadata": {},
   "outputs": [],
   "source": [
    "import cbpro\n",
    "\n",
    "key = '480e2ff4b3e5cf8765ecc9463387fe88'\n",
    "secret = 'z+VfvqKjE7nLZ4neSDZ7kEF3nAPY39pKHk5xEB+hMLRt00JiOgXv66Lz1nLPF/X3PHZoQIOhYFdbFqzYNRfilA=='\n",
    "passphrase = 'kl5c8ifm7tk'\n",
    "\n",
    "auth_client = cbpro.AuthenticatedClient(key, secret, passphrase)"
   ]
  },
  {
   "cell_type": "code",
   "execution_count": 2,
   "id": "ea165c8b",
   "metadata": {},
   "outputs": [],
   "source": [
    "orders = auth_client.get_account_holds('1a645979-fa3c-4a45-b9e8-3b83f952ac81')"
   ]
  },
  {
   "cell_type": "code",
   "execution_count": 3,
   "id": "676523bc",
   "metadata": {},
   "outputs": [
    {
     "name": "stdout",
     "output_type": "stream",
     "text": [
      "{'id': '1d4acdb6-5cf3-49c0-ab86-3cab2cc3d59a', 'created_at': '2021-08-05T18:55:11.312073Z', 'amount': '0.0200000000000000', 'ref': 'd493cad8-bc6c-4b1e-853d-13d97d4abbe2', 'type': 'order'}\n"
     ]
    }
   ],
   "source": [
    "for i in orders:\n",
    "    print(i)"
   ]
  },
  {
   "cell_type": "code",
   "execution_count": null,
   "id": "eb1fac35",
   "metadata": {},
   "outputs": [],
   "source": []
  }
 ],
 "metadata": {
  "kernelspec": {
   "display_name": "Python 3",
   "language": "python",
   "name": "python3"
  },
  "language_info": {
   "codemirror_mode": {
    "name": "ipython",
    "version": 3
   },
   "file_extension": ".py",
   "mimetype": "text/x-python",
   "name": "python",
   "nbconvert_exporter": "python",
   "pygments_lexer": "ipython3",
   "version": "3.8.3"
  }
 },
 "nbformat": 4,
 "nbformat_minor": 5
}
