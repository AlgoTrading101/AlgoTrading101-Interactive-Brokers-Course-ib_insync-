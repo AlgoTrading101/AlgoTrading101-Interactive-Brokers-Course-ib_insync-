{
 "cells": [
  {
   "cell_type": "code",
   "execution_count": 1,
   "id": "fa44be6c",
   "metadata": {},
   "outputs": [
    {
     "data": {
      "text/plain": [
       "<IB connected to 127.0.0.1:7497 clientId=1>"
      ]
     },
     "execution_count": 1,
     "metadata": {},
     "output_type": "execute_result"
    }
   ],
   "source": [
    "from ib_insync import *\n",
    "\n",
    "util.startLoop()\n",
    "\n",
    "ib = IB()\n",
    "ib.connect()"
   ]
  },
  {
   "cell_type": "code",
   "execution_count": 2,
   "id": "a5d59251",
   "metadata": {},
   "outputs": [],
   "source": [
    "# Set up the contracts\n",
    "box_contract = Stock('BOX', 'SMART', 'USD')\n",
    "dbx_contract = Stock('DBX', 'SMART', 'USD')\n",
    "\n",
    "try:\n",
    "    ib.qualifyContracts(box_contract)\n",
    "    ib.qualifyContracts(dbx_contract)\n",
    "except Exception as e:\n",
    "    print(e)"
   ]
  },
  {
   "cell_type": "code",
   "execution_count": 3,
   "id": "d89d883a",
   "metadata": {},
   "outputs": [],
   "source": [
    "# Create order logic\n",
    "perc_change_condition = PercentChangeCondition(\n",
    "    changePercent=5.0,\n",
    "    conId=dbx_contract.conId,\n",
    "    exch=dbx_contract.exchange\n",
    "    )\n",
    "\n",
    "box_order = MarketOrder('BUY', 100)\n",
    "box_order.conditions.append(perc_change_condition)"
   ]
  },
  {
   "cell_type": "code",
   "execution_count": 4,
   "id": "9f4dcfee",
   "metadata": {},
   "outputs": [
    {
     "data": {
      "text/plain": [
       "MarketOrder(action='BUY', totalQuantity=100, conditions=[PercentChangeCondition(condType=7, conjunction='a', isMore=True, changePercent=5.0, conId=311892159, exch='SMART')])"
      ]
     },
     "execution_count": 4,
     "metadata": {},
     "output_type": "execute_result"
    }
   ],
   "source": [
    "box_order"
   ]
  },
  {
   "cell_type": "code",
   "execution_count": 5,
   "id": "f80f7737",
   "metadata": {},
   "outputs": [],
   "source": [
    "try:\n",
    "    box_trade = ib.placeOrder(box_contract, box_order)\n",
    "except Exception as e:\n",
    "    print(e)"
   ]
  },
  {
   "cell_type": "code",
   "execution_count": 6,
   "id": "23902a3b",
   "metadata": {},
   "outputs": [
    {
     "data": {
      "text/plain": [
       "[TradeLogEntry(time=datetime.datetime(2021, 8, 18, 15, 35, 6, 994480, tzinfo=datetime.timezone.utc), status='PendingSubmit', message=''),\n",
       " TradeLogEntry(time=datetime.datetime(2021, 8, 18, 15, 35, 7, 130239, tzinfo=datetime.timezone.utc), status='PreSubmitted', message='')]"
      ]
     },
     "execution_count": 6,
     "metadata": {},
     "output_type": "execute_result"
    }
   ],
   "source": [
    "box_trade.log"
   ]
  },
  {
   "cell_type": "code",
   "execution_count": null,
   "id": "11d06cea",
   "metadata": {},
   "outputs": [],
   "source": []
  }
 ],
 "metadata": {
  "kernelspec": {
   "display_name": "Python 3",
   "language": "python",
   "name": "python3"
  },
  "language_info": {
   "codemirror_mode": {
    "name": "ipython",
    "version": 3
   },
   "file_extension": ".py",
   "mimetype": "text/x-python",
   "name": "python",
   "nbconvert_exporter": "python",
   "pygments_lexer": "ipython3",
   "version": "3.8.3"
  }
 },
 "nbformat": 4,
 "nbformat_minor": 5
}
