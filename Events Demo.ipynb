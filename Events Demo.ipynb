{
 "cells": [
  {
   "cell_type": "code",
   "execution_count": 1,
   "id": "8126b391",
   "metadata": {},
   "outputs": [],
   "source": [
    "from ib_insync import *\n",
    "\n",
    "util.startLoop()\n",
    "\n",
    "ib = IB()"
   ]
  },
  {
   "cell_type": "code",
   "execution_count": 2,
   "id": "6b24c4e4",
   "metadata": {},
   "outputs": [],
   "source": [
    "# Connection Event\n",
    "\n",
    "def on_open():\n",
    "    print('Hello')\n",
    "    \n",
    "ib.connectedEvent += on_open"
   ]
  },
  {
   "cell_type": "code",
   "execution_count": 3,
   "id": "741047c1",
   "metadata": {},
   "outputs": [
    {
     "name": "stdout",
     "output_type": "stream",
     "text": [
      "Hello\n"
     ]
    },
    {
     "data": {
      "text/plain": [
       "<IB connected to 127.0.0.1:7497 clientId=1>"
      ]
     },
     "execution_count": 3,
     "metadata": {},
     "output_type": "execute_result"
    }
   ],
   "source": [
    "ib.connect()"
   ]
  },
  {
   "cell_type": "code",
   "execution_count": 4,
   "id": "ef3bcafd",
   "metadata": {},
   "outputs": [],
   "source": [
    "# Market Order Events\n",
    "\n",
    "def on_order(order):\n",
    "    print(f'Opened order: {order}')\n",
    "    \n",
    "def on_status(order):\n",
    "    print(f'Order Status: {trade.orderStatus.status}')\n",
    "    \n",
    "ib.newOrderEvent +=on_order\n",
    "ib.orderStatusEvent += on_status"
   ]
  },
  {
   "cell_type": "code",
   "execution_count": 5,
   "id": "164e53b6",
   "metadata": {},
   "outputs": [
    {
     "name": "stdout",
     "output_type": "stream",
     "text": [
      "Opened order: Trade(contract=Stock(conId=76792991, symbol='TSLA', exchange='SMART', primaryExchange='NASDAQ', currency='USD', localSymbol='TSLA', tradingClass='NMS'), order=MarketOrder(orderId=497, clientId=1, action='BUY', totalQuantity=10), orderStatus=OrderStatus(orderId=497, status='PendingSubmit', filled=0.0, remaining=0.0, avgFillPrice=0.0, permId=0, parentId=0, lastFillPrice=0.0, clientId=0, whyHeld='', mktCapPrice=0.0), fills=[], log=[TradeLogEntry(time=datetime.datetime(2021, 8, 18, 16, 20, 25, 57175, tzinfo=datetime.timezone.utc), status='PendingSubmit', message='')])\n",
      "Order Status: Submitted\n",
      "Order Status: Filled\n"
     ]
    }
   ],
   "source": [
    "contract = Stock('TSLA', 'SMART', 'USD')\n",
    "order = MarketOrder('BUY', 10)\n",
    "\n",
    "try:\n",
    "    ib.qualifyContracts(contract)\n",
    "    trade = ib.placeOrder(contract, order)\n",
    "except Exception as e:\n",
    "    print(e)"
   ]
  },
  {
   "cell_type": "code",
   "execution_count": null,
   "id": "2abf250d",
   "metadata": {},
   "outputs": [],
   "source": []
  }
 ],
 "metadata": {
  "kernelspec": {
   "display_name": "Python 3",
   "language": "python",
   "name": "python3"
  },
  "language_info": {
   "codemirror_mode": {
    "name": "ipython",
    "version": 3
   },
   "file_extension": ".py",
   "mimetype": "text/x-python",
   "name": "python",
   "nbconvert_exporter": "python",
   "pygments_lexer": "ipython3",
   "version": "3.8.3"
  }
 },
 "nbformat": 4,
 "nbformat_minor": 5
}
