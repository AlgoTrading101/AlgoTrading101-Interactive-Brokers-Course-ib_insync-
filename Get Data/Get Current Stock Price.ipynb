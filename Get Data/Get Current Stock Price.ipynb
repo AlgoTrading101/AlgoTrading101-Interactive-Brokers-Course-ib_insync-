{
 "cells": [
  {
   "cell_type": "code",
   "execution_count": 1,
   "id": "04eb3b37",
   "metadata": {},
   "outputs": [
    {
     "data": {
      "text/plain": [
       "<IB connected to 127.0.0.1:7497 clientId=1>"
      ]
     },
     "execution_count": 1,
     "metadata": {},
     "output_type": "execute_result"
    }
   ],
   "source": [
    "from ib_insync import *\n",
    "\n",
    "util.startLoop()\n",
    "\n",
    "ib = IB()\n",
    "ib.connect()"
   ]
  },
  {
   "cell_type": "code",
   "execution_count": 6,
   "id": "becdbdda",
   "metadata": {},
   "outputs": [
    {
     "data": {
      "text/plain": [
       "[Stock(conId=107113386, symbol='FB', exchange='SMART', primaryExchange='NASDAQ', currency='USD', localSymbol='FB', tradingClass='NMS')]"
      ]
     },
     "execution_count": 6,
     "metadata": {},
     "output_type": "execute_result"
    }
   ],
   "source": [
    "contract = Stock('FB', 'SMART', 'USD')\n",
    "ib.qualifyContracts(contract)"
   ]
  },
  {
   "cell_type": "code",
   "execution_count": 7,
   "id": "78b42ae1",
   "metadata": {},
   "outputs": [],
   "source": [
    "ib.reqMarketDataType(3)\n",
    "\n",
    "data = ib.reqMktData(contract)"
   ]
  },
  {
   "cell_type": "code",
   "execution_count": 8,
   "id": "ea644129",
   "metadata": {},
   "outputs": [
    {
     "data": {
      "text/plain": [
       "Ticker(contract=Stock(conId=107113386, symbol='FB', exchange='SMART', primaryExchange='NASDAQ', currency='USD', localSymbol='FB', tradingClass='NMS'), time=datetime.datetime(2021, 8, 12, 17, 2, 58, 795412, tzinfo=datetime.timezone.utc), marketDataType=3, bid=361.73, bidSize=5, ask=361.77, askSize=18, last=361.75, lastSize=1, volume=36980, open=358.73, high=361.8, low=357.11, close=359.96, ticks=[TickData(time=datetime.datetime(2021, 8, 12, 17, 2, 58, 795412, tzinfo=datetime.timezone.utc), tickType=66, price=361.73, size=5), TickData(time=datetime.datetime(2021, 8, 12, 17, 2, 58, 795412, tzinfo=datetime.timezone.utc), tickType=67, price=361.77, size=18), TickData(time=datetime.datetime(2021, 8, 12, 17, 2, 58, 795412, tzinfo=datetime.timezone.utc), tickType=68, price=361.75, size=1), TickData(time=datetime.datetime(2021, 8, 12, 17, 2, 58, 795412, tzinfo=datetime.timezone.utc), tickType=72, price=361.8, size=0), TickData(time=datetime.datetime(2021, 8, 12, 17, 2, 58, 795412, tzinfo=datetime.timezone.utc), tickType=73, price=357.11, size=0), TickData(time=datetime.datetime(2021, 8, 12, 17, 2, 58, 795412, tzinfo=datetime.timezone.utc), tickType=74, price=-1.0, size=36980), TickData(time=datetime.datetime(2021, 8, 12, 17, 2, 58, 795412, tzinfo=datetime.timezone.utc), tickType=75, price=359.96, size=0), TickData(time=datetime.datetime(2021, 8, 12, 17, 2, 58, 795412, tzinfo=datetime.timezone.utc), tickType=76, price=358.73, size=0), TickData(time=datetime.datetime(2021, 8, 12, 17, 2, 58, 795412, tzinfo=datetime.timezone.utc), tickType=90, price=0.0, size=0)])"
      ]
     },
     "execution_count": 8,
     "metadata": {},
     "output_type": "execute_result"
    }
   ],
   "source": [
    "data"
   ]
  }
 ],
 "metadata": {
  "kernelspec": {
   "display_name": "Python 3",
   "language": "python",
   "name": "python3"
  },
  "language_info": {
   "codemirror_mode": {
    "name": "ipython",
    "version": 3
   },
   "file_extension": ".py",
   "mimetype": "text/x-python",
   "name": "python",
   "nbconvert_exporter": "python",
   "pygments_lexer": "ipython3",
   "version": "3.8.3"
  }
 },
 "nbformat": 4,
 "nbformat_minor": 5
}
