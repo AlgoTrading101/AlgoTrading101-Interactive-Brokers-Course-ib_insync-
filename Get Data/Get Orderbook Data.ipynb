{
 "cells": [
  {
   "cell_type": "code",
   "execution_count": 1,
   "id": "70a20d34",
   "metadata": {},
   "outputs": [],
   "source": [
    "from ib_insync import *\n",
    "\n",
    "util.startLoop()\n",
    "\n",
    "ib = IB()\n",
    "ib.connect()\n",
    "\n",
    "ib.reqMarketDataType(3)"
   ]
  },
  {
   "cell_type": "code",
   "execution_count": 5,
   "id": "1513c72d",
   "metadata": {},
   "outputs": [
    {
     "data": {
      "text/plain": [
       "[Forex('EURUSD', conId=12087792, exchange='IDEALPRO', localSymbol='EUR.USD', tradingClass='EUR.USD')]"
      ]
     },
     "execution_count": 5,
     "metadata": {},
     "output_type": "execute_result"
    }
   ],
   "source": [
    "contract = Forex('EURUSD')\n",
    "ib.qualifyContracts(contract)"
   ]
  },
  {
   "cell_type": "code",
   "execution_count": 6,
   "id": "cadff782",
   "metadata": {},
   "outputs": [
    {
     "data": {
      "text/plain": [
       "Ticker(contract=Forex('EURUSD', conId=12087792, exchange='IDEALPRO', localSymbol='EUR.USD', tradingClass='EUR.USD'))"
      ]
     },
     "execution_count": 6,
     "metadata": {},
     "output_type": "execute_result"
    }
   ],
   "source": [
    "book = ib.reqMktDepth(contract)\n",
    "book"
   ]
  },
  {
   "cell_type": "code",
   "execution_count": 7,
   "id": "00c1c2e0",
   "metadata": {},
   "outputs": [
    {
     "data": {
      "text/plain": [
       "Ticker(contract=Forex('EURUSD', conId=12087792, exchange='IDEALPRO', localSymbol='EUR.USD', tradingClass='EUR.USD'), time=datetime.datetime(2021, 8, 18, 15, 4, 11, 750391, tzinfo=datetime.timezone.utc), domBids=[DOMLevel(price=1.1709, size=2930000, marketMaker=''), DOMLevel(price=1.17089, size=5500000, marketMaker=''), DOMLevel(price=1.17088, size=5000000, marketMaker=''), DOMLevel(price=1.17086, size=2500000, marketMaker=''), DOMLevel(price=1.17085, size=21000000, marketMaker='')], domAsks=[DOMLevel(price=1.17091, size=1000000, marketMaker=''), DOMLevel(price=1.17092, size=4500000, marketMaker=''), DOMLevel(price=1.17093, size=6000000, marketMaker=''), DOMLevel(price=1.17094, size=6200000, marketMaker=''), DOMLevel(price=1.17096, size=10500000, marketMaker='')])"
      ]
     },
     "execution_count": 7,
     "metadata": {},
     "output_type": "execute_result"
    }
   ],
   "source": [
    "book"
   ]
  }
 ],
 "metadata": {
  "kernelspec": {
   "display_name": "Python 3",
   "language": "python",
   "name": "python3"
  },
  "language_info": {
   "codemirror_mode": {
    "name": "ipython",
    "version": 3
   },
   "file_extension": ".py",
   "mimetype": "text/x-python",
   "name": "python",
   "nbconvert_exporter": "python",
   "pygments_lexer": "ipython3",
   "version": "3.8.3"
  }
 },
 "nbformat": 4,
 "nbformat_minor": 5
}
