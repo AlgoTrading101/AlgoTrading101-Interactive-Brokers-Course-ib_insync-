{
 "cells": [
  {
   "cell_type": "code",
   "execution_count": 1,
   "id": "2608137c",
   "metadata": {},
   "outputs": [],
   "source": [
    "from ib_insync import *\n",
    "\n",
    "util.startLoop()\n",
    "\n",
    "ib = IB()\n",
    "ib.connect()\n",
    "\n",
    "ib.reqMarketDataType(3)"
   ]
  },
  {
   "cell_type": "code",
   "execution_count": 2,
   "id": "6d81c6ec",
   "metadata": {},
   "outputs": [
    {
     "data": {
      "text/plain": [
       "[Stock(conId=311892159, symbol='DBX', exchange='SMART', primaryExchange='NASDAQ', currency='USD', localSymbol='DBX', tradingClass='NMS')]"
      ]
     },
     "execution_count": 2,
     "metadata": {},
     "output_type": "execute_result"
    }
   ],
   "source": [
    "contract = Stock('DBX', 'SMART', 'USD')\n",
    "ib.qualifyContracts(contract)"
   ]
  },
  {
   "cell_type": "code",
   "execution_count": 3,
   "id": "76051216",
   "metadata": {},
   "outputs": [],
   "source": [
    "data = ib.reqHistoricalData(\n",
    "    contract,\n",
    "    '', # endTime\n",
    "    barSizeSetting='15 mins', \n",
    "    durationStr='2 D', \n",
    "    whatToShow='MIDPOINT', \n",
    "    useRTH=True # RegularTradingHours\n",
    "    )"
   ]
  },
  {
   "cell_type": "code",
   "execution_count": 7,
   "id": "2bed6548",
   "metadata": {},
   "outputs": [
    {
     "data": {
      "text/plain": [
       "32.465"
      ]
     },
     "execution_count": 7,
     "metadata": {},
     "output_type": "execute_result"
    }
   ],
   "source": [
    "data[0].high"
   ]
  }
 ],
 "metadata": {
  "kernelspec": {
   "display_name": "Python 3",
   "language": "python",
   "name": "python3"
  },
  "language_info": {
   "codemirror_mode": {
    "name": "ipython",
    "version": 3
   },
   "file_extension": ".py",
   "mimetype": "text/x-python",
   "name": "python",
   "nbconvert_exporter": "python",
   "pygments_lexer": "ipython3",
   "version": "3.8.3"
  }
 },
 "nbformat": 4,
 "nbformat_minor": 5
}
