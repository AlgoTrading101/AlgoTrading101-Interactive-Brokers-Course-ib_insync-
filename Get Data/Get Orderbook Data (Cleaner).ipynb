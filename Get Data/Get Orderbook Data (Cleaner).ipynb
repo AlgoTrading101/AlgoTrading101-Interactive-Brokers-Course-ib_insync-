{
 "cells": [
  {
   "cell_type": "code",
   "execution_count": null,
   "id": "70a20d34",
   "metadata": {},
   "outputs": [],
   "source": [
    "from ib_insync import *\n",
    "from IPython.display import display, clear_output\n",
    "import pandas as pd\n",
    "\n",
    "util.startLoop()\n",
    "\n",
    "ib = IB()\n",
    "ib.connect()\n",
    "\n",
    "ib.reqMarketDataType(3)"
   ]
  },
  {
   "cell_type": "code",
   "execution_count": null,
   "id": "6b53fc85",
   "metadata": {},
   "outputs": [],
   "source": [
    "def onTickerUpdate(ticker):\n",
    "    bids = ticker.domBids\n",
    "    for i in range(5):\n",
    "        df.iloc[i, 0] = bids[i].size if i < len(bids) else 0\n",
    "        df.iloc[i, 1] = bids[i].price if i < len(bids) else 0\n",
    "    asks = ticker.domAsks\n",
    "    for i in range(5):\n",
    "        df.iloc[i, 2] = asks[i].price if i < len(asks) else 0\n",
    "        df.iloc[i, 3] = asks[i].size if i < len(asks) else 0\n",
    "    clear_output(wait=True)\n",
    "    display(df)"
   ]
  },
  {
   "cell_type": "code",
   "execution_count": null,
   "id": "1513c72d",
   "metadata": {},
   "outputs": [],
   "source": [
    "contract = Forex('EURUSD')\n",
    "ib.qualifyContracts(contract)\n",
    "ticker = ib.reqMktDepth(contract)"
   ]
  },
  {
   "cell_type": "code",
   "execution_count": null,
   "id": "ec592802",
   "metadata": {},
   "outputs": [],
   "source": [
    "df = pd.DataFrame(index=range(5),\n",
    "        columns='bidSize bidPrice askPrice askSize'.split())\n",
    "\n",
    "ticker.updateEvent += onTickerUpdate\n",
    "\n",
    "ib.sleep(5)"
   ]
  }
 ],
 "metadata": {
  "kernelspec": {
   "display_name": "Python 3",
   "language": "python",
   "name": "python3"
  },
  "language_info": {
   "codemirror_mode": {
    "name": "ipython",
    "version": 3
   },
   "file_extension": ".py",
   "mimetype": "text/x-python",
   "name": "python",
   "nbconvert_exporter": "python",
   "pygments_lexer": "ipython3",
   "version": "3.8.3"
  }
 },
 "nbformat": 4,
 "nbformat_minor": 5
}
