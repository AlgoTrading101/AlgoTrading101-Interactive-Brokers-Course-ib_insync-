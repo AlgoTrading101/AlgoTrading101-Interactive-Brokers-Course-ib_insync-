{
 "cells": [
  {
   "cell_type": "code",
   "execution_count": 1,
   "id": "37390177",
   "metadata": {
    "scrolled": true
   },
   "outputs": [],
   "source": [
    "from ib_insync import *\n",
    "\n",
    "util.startLoop()\n",
    "\n",
    "ib = IB()\n",
    "ib.connect()\n",
    "\n",
    "ib.reqMarketDataType(3)"
   ]
  },
  {
   "cell_type": "markdown",
   "id": "cfd6ac2e",
   "metadata": {},
   "source": [
    "## Crypto"
   ]
  },
  {
   "cell_type": "code",
   "execution_count": 2,
   "id": "a37b129f",
   "metadata": {},
   "outputs": [],
   "source": [
    "btc_fut_cont_contract = ContFuture('BRR', 'CMECRYPTO')\n",
    "ib.qualifyContracts(btc_fut_cont_contract)\n",
    "\n",
    "crypto_data = ib.reqMktData(btc_fut_cont_contract)"
   ]
  },
  {
   "cell_type": "code",
   "execution_count": 3,
   "id": "e46f8ada",
   "metadata": {},
   "outputs": [
    {
     "data": {
      "text/plain": [
       "Ticker(contract=ContFuture(conId=474006201, symbol='BRR', lastTradeDateOrContractMonth='20210827', multiplier='5', exchange='CMECRYPTO', currency='USD', localSymbol='BTCQ1', tradingClass='BTC'), time=datetime.datetime(2021, 8, 12, 17, 15, 23, 336765, tzinfo=datetime.timezone.utc), marketDataType=3, bid=44005.0, bidSize=2, ask=44045.0, askSize=1, last=44020.0, lastSize=1, volume=4644, open=46315.0, high=46315.0, low=43780.0, close=46455.0, ticks=[TickData(time=datetime.datetime(2021, 8, 12, 17, 15, 23, 336765, tzinfo=datetime.timezone.utc), tickType=72, price=46315.0, size=0), TickData(time=datetime.datetime(2021, 8, 12, 17, 15, 23, 336765, tzinfo=datetime.timezone.utc), tickType=73, price=43780.0, size=0), TickData(time=datetime.datetime(2021, 8, 12, 17, 15, 23, 336765, tzinfo=datetime.timezone.utc), tickType=74, price=-1.0, size=4644), TickData(time=datetime.datetime(2021, 8, 12, 17, 15, 23, 336765, tzinfo=datetime.timezone.utc), tickType=75, price=46455.0, size=0), TickData(time=datetime.datetime(2021, 8, 12, 17, 15, 23, 336765, tzinfo=datetime.timezone.utc), tickType=76, price=46315.0, size=0)])"
      ]
     },
     "execution_count": 3,
     "metadata": {},
     "output_type": "execute_result"
    }
   ],
   "source": [
    "crypto_data"
   ]
  },
  {
   "cell_type": "markdown",
   "id": "de0c816f",
   "metadata": {},
   "source": [
    "## Forex"
   ]
  },
  {
   "cell_type": "code",
   "execution_count": 4,
   "id": "8fffed6e",
   "metadata": {},
   "outputs": [],
   "source": [
    "gbp_usd_contract = Forex('GBPUSD', 'IDEALPRO')\n",
    "ib.qualifyContracts(gbp_usd_contract)\n",
    "\n",
    "forex_data = ib.reqMktData(gbp_usd_contract)"
   ]
  },
  {
   "cell_type": "code",
   "execution_count": 5,
   "id": "adebc9db",
   "metadata": {},
   "outputs": [
    {
     "data": {
      "text/plain": [
       "Ticker(contract=Forex('GBPUSD', conId=12087797, exchange='IDEALPRO', localSymbol='GBP.USD', tradingClass='GBP.USD'), time=datetime.datetime(2021, 8, 12, 17, 16, 12, 193959, tzinfo=datetime.timezone.utc), bid=1.38134, bidSize=2000000, ask=1.38138, askSize=3500000, prevBid=1.38135, prevBidSize=1000000, prevAsk=1.38139, prevAskSize=2500000, high=1.38785, low=1.38135, close=1.3867, halted=0.0, ticks=[TickData(time=datetime.datetime(2021, 8, 12, 17, 16, 12, 193959, tzinfo=datetime.timezone.utc), tickType=1, price=1.38134, size=2000000), TickData(time=datetime.datetime(2021, 8, 12, 17, 16, 12, 193959, tzinfo=datetime.timezone.utc), tickType=3, price=1.38138, size=3500000)])"
      ]
     },
     "execution_count": 5,
     "metadata": {},
     "output_type": "execute_result"
    }
   ],
   "source": [
    "forex_data"
   ]
  },
  {
   "cell_type": "markdown",
   "id": "bfff9627",
   "metadata": {},
   "source": [
    "## Precious metal"
   ]
  },
  {
   "cell_type": "code",
   "execution_count": 6,
   "id": "ba2cd372",
   "metadata": {},
   "outputs": [],
   "source": [
    "gold_cfd_contract = CFD('XAUUSD')\n",
    "ib.qualifyContracts(gold_cfd_contract)\n",
    "\n",
    "metal_data = ib.reqMktData(gold_cfd_contract)"
   ]
  },
  {
   "cell_type": "code",
   "execution_count": 8,
   "id": "8529d7fd",
   "metadata": {},
   "outputs": [
    {
     "data": {
      "text/plain": [
       "Ticker(contract=CFD(conId=457068913, symbol='XAUUSD', exchange='SMART', currency='USD', localSymbol='XAUUSD', tradingClass='XAUUSD'), time=datetime.datetime(2021, 8, 12, 17, 16, 47, 978632, tzinfo=datetime.timezone.utc), marketDataType=3, bid=1752.01, bidSize=500, ask=1752.21, askSize=500, last=0.0, lastSize=0, close=1751.63)"
      ]
     },
     "execution_count": 8,
     "metadata": {},
     "output_type": "execute_result"
    }
   ],
   "source": [
    "metal_data"
   ]
  },
  {
   "cell_type": "code",
   "execution_count": null,
   "id": "ccb3cea2",
   "metadata": {},
   "outputs": [],
   "source": []
  }
 ],
 "metadata": {
  "kernelspec": {
   "display_name": "Python 3",
   "language": "python",
   "name": "python3"
  },
  "language_info": {
   "codemirror_mode": {
    "name": "ipython",
    "version": 3
   },
   "file_extension": ".py",
   "mimetype": "text/x-python",
   "name": "python",
   "nbconvert_exporter": "python",
   "pygments_lexer": "ipython3",
   "version": "3.8.3"
  }
 },
 "nbformat": 4,
 "nbformat_minor": 5
}
